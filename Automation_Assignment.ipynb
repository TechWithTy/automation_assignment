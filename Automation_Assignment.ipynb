{
  "nbformat": 4,
  "nbformat_minor": 0,
  "metadata": {
    "colab": {
      "provenance": [],
      "toc_visible": true,
      "collapsed_sections": [
        "TBDJg9MJfHVl",
        "4qXEk5kmwEgl",
        "2N1yvjAQN1Uc",
        "8-65_PWQUc8Y",
        "vL8ssHKRVR9O"
      ],
      "authorship_tag": "ABX9TyOxiHDyBaZQZMn4GPsF7voO",
      "include_colab_link": true
    },
    "kernelspec": {
      "name": "python3",
      "display_name": "Python 3"
    },
    "language_info": {
      "name": "python"
    }
  },
  "cells": [
    {
      "cell_type": "markdown",
      "metadata": {
        "id": "view-in-github",
        "colab_type": "text"
      },
      "source": [
        "<a href=\"https://colab.research.google.com/github/TechWithTy/automation_assignment/blob/google_colabs/Automation_Assignment.ipynb\" target=\"_parent\"><img src=\"https://colab.research.google.com/assets/colab-badge.svg\" alt=\"Open In Colab\"/></a>"
      ]
    },
    {
      "cell_type": "markdown",
      "source": [
        "#Before Getting Started\n",
        "1. **Understand the problem:**\n",
        "-pick a website/webpage to automate \n",
        "\n",
        "-make sure to pull data from HTML table \n",
        "\n",
        "-make sure to pull data from nested DIVs\n",
        "\n",
        "-need to demonstrate data scraping with both of the above scenarios\n",
        "\n",
        "Ex. In either an HTML table or nested DIVs. Search on “A” and bring back “B”.  We have a list of bicycles that contain bicycle color, bicycle size, bicycle price and bicycle availability.  Use one of those criteria as the search to show me the other bicycle attributes (search on size bring back size, color, availability and price).\n",
        "\n",
        "-include string manipulation (convert string to number, trim/split/pop)\n",
        "\n",
        "-want to see data collected and buttons clicked from a modal window \n",
        "\n",
        "2. **Break down the problem into smaller steps:** \n",
        "\n",
        "\n",
        "\n",
        " \n",
        "Bs4 \n",
        "-Find and click a modal with playwright (**faster new selenium**), output clicked modal element,data collected\n",
        "\n",
        "1.   -Choose a website that has search capabilties\n",
        "2.  Show modal element and click button element \n",
        "3.   -We could use a url search query but we are demonstarting automation capabilities. EX- ```https://telfar.net/search?q=red&type=product%2Cpage&options%5Bunavailable_products%5D=last&options%5Bprefix%5D=last``` instead of inputing that url we are searching manually \n",
        "4. -Pull nested Div data From Website for search criteria using Bs4\n",
        "5. -Pull html table data From Website for search criteria using \n",
        "6. Perform String manipulation \n",
        "\n",
        "\n",
        "\n",
        "3. **Define the inputs and outputs**: The inputs are a link to a website to scrape and the search criteria.\n",
        "\n",
        "4. **Use descriptive language**: I need to scrape data from a website, using search criteria and click on a modal progrmatically. After this the data for the first 3 items (all attributes) should be output along with the element that was clicked on.\n",
        "\n",
        "5. **Number the steps**: \n",
        "\n",
        "\n",
        "1- Choose a website that has search capabilties \n",
        "\n",
        "2- Pull nested Div data From Website for search criteria using Bs4\n",
        "\n",
        "3- Pull html table data From Website for search criteria using Bs4 \n",
        "\n",
        "4- Find and click a modal with playwright (**faster new selenium**), output clicked modal element,data collected\n",
        "\n",
        "5- include string manipulation (convert string to number, trim/split/pop)\n",
        "\n",
        "6. Review and refine: After you have written the algorithm, review it carefully to ensure that it is correct and complete. Look for any errors or omissions and refine the algorithm as needed.\n",
        "\n",
        "\n"
      ],
      "metadata": {
        "id": "alEKQQYSdEqW"
      }
    },
    {
      "cell_type": "markdown",
      "source": [
        "# Getting Started "
      ],
      "metadata": {
        "id": "TBDJg9MJfHVl"
      }
    },
    {
      "cell_type": "markdown",
      "source": [
        "@title Instructions\n",
        "\n",
        "\n",
        "\n",
        "1.   Click Run all or **ctrl+f9**\n",
        "2.   Wait for output 🤖\n",
        "\n",
        "\n"
      ],
      "metadata": {
        "id": "EImqxIRjNtHq"
      }
    },
    {
      "cell_type": "code",
      "source": [
        "#@title Installation\n",
        "%pip install typing\n",
        "%pip install bs4\n",
        "%pip install tabulate\n",
        "%pip install playwright\n",
        "!playwright install\n",
        "%pip install asyncio\n",
        "\n",
        "init_quotes = [    \"Success is not final, failure is not fatal: it is the courage to continue that counts. - Winston Churchill\",    \"I have not failed. I've just found 10,000 ways that won't work. - Thomas Edison\",    \"Success consists of going from failure to failure without loss of enthusiasm. - Winston Churchill\",    \"Only those who dare to fail greatly can ever achieve greatly. - Robert F. Kennedy\",    \"It is hard to fail, but it is worse never to have tried to succeed. - Theodore Roosevelt\",    \"Failure is the condiment that gives success its flavor. - Truman Capote\",    \"Success is stumbling from failure to failure with no loss of enthusiasm. - Winston Churchill\",    \"There is only one thing that makes a dream impossible to achieve: the fear of failure. - Paulo Coelho\",    \"Don't be afraid of failure; be afraid of petty success. - Maude Adams\",    \"I've missed more than 9000 shots in my career. I've lost almost 300 games. 26 times I've been trusted to take the game winning shot and missed. I've failed over and over and over again in my life. And that is why I succeed. - Michael Jordan\"]\n",
        "\n",
        "# from rich import print as prt\n",
        "from IPython.display import clear_output\n",
        "from typing import Optional, List, Dict, Any\n",
        "import builtins\n",
        "import random\n",
        "from typing import List\n",
        "import requests\n",
        "from bs4 import BeautifulSoup\n",
        "import asyncio\n",
        "from tabulate import tabulate\n",
        "\n",
        "\n",
        "\n",
        "BLACK = '\\033[30m'\n",
        "RED = '\\033[31m'\n",
        "GREEN = '\\033[32m'\n",
        "YELLOW = '\\033[33m'\n",
        "BLUE = '\\033[34m'\n",
        "MAGENTA = '\\033[35m'\n",
        "CYAN = '\\033[36m'\n",
        "WHITE = '\\033[37m'\n",
        "\n",
        "\n",
        "def make_table(string: str ,data: list):\n",
        "  print(f\"[{string}]\",tabulate(data, headers=\"keys\" ))\n",
        "\n",
        "def check_errors_in_string(string: str):\n",
        "        if hasattr(builtins, string):\n",
        "            return string\n",
        "        return False\n",
        "\n",
        "\n",
        "def ps( text: str = \"No Additional Info Added\",color: str = BLACK,data: List = []):\n",
        "  is_success =  BLUE\n",
        "  errors = check_errors_in_string(text)\n",
        " \n",
        "  if(data and len(data) > 10):\n",
        "    is_success = GREEN if errors == False else RED\n",
        "    print(f\"{color}\\n{text}\\033[0m\",f\"{is_success}\\n{make_table(text,data)}\\033]0m\")\n",
        "  else:\n",
        "    print(f\"{color}\\n{text}\\033[0m\",f\"{is_success}\\n{init_quotes[ random.randint(0, 9)]}\\033]0m\")\n",
        "\n",
        "clear_output()\n",
        "\n",
        "ps(\"Dependencies Installed!\")\n"
      ],
      "metadata": {
        "colab": {
          "base_uri": "https://localhost:8080/"
        },
        "id": "F2wSf01XSB-u",
        "outputId": "ce3de1d8-8dfe-40a0-a380-2918839634ac"
      },
      "execution_count": 48,
      "outputs": [
        {
          "output_type": "stream",
          "name": "stdout",
          "text": [
            "\u001b[30m\n",
            "Dependencies Installed!\u001b[0m \u001b[34m\n",
            "Success is stumbling from failure to failure with no loss of enthusiasm. - Winston Churchill\u001b]0m\n"
          ]
        }
      ]
    },
    {
      "cell_type": "markdown",
      "source": [
        "# Tests"
      ],
      "metadata": {
        "id": "4qXEk5kmwEgl"
      }
    },
    {
      "cell_type": "code",
      "source": [
        "\n",
        "# #tests\n",
        "\n"
      ],
      "metadata": {
        "id": "5WNJDEbqXDpr"
      },
      "execution_count": null,
      "outputs": []
    },
    {
      "cell_type": "markdown",
      "source": [
        "# Main Function"
      ],
      "metadata": {
        "id": "2N1yvjAQN1Uc"
      }
    },
    {
      "cell_type": "markdown",
      "source": [],
      "metadata": {
        "id": "BT6fmmRXOG0M"
      }
    },
    {
      "cell_type": "code",
      "source": [
        "#@title Get All Input Fields\n",
        "\n",
        "def find_input_fields(url: str) -> List[str]:\n",
        "    # Send a GET request to the URL\n",
        "    response = requests.get(url)\n",
        "\n",
        "    # Parse the HTML content with BeautifulSoup\n",
        "    soup = BeautifulSoup(response.content, 'html.parser')\n",
        "\n",
        "    # Find all input fields with id=\"searchInput\"\n",
        "    input_fields = []\n",
        "    for input_field in soup.find_all('input', {'id': 'searchInput'}):\n",
        "        input_fields.append(input_field)\n",
        "\n",
        "    return input_fields\n",
        "\n",
        "\n",
        "input_fields = find_input_fields('https://telfar.net/')\n",
        "print(input_fields)\n",
        "\n",
        "x_button = '<button tabindex=\"0\" class=\"needsclick klaviyo-close-form kl-private-reset-css-Xuajs1\" style=\"right: 0px; top: 0px; position: absolute; z-index: 6; cursor: pointer; height: 25px; width: 25px; margin-right: 8px; margin-top: 8px;\"><svg role=\"img\" width=\"25\" height=\"25\" viewBox=\"0 0 20 20\" fill=\"none\" xmlns=\"http://www.w3.org/2000/svg\" aria-labelledby=\"close-form-1\" class=\"needsclick  kl-private-reset-css-Xuajs1\"><title id=\"close-form-1\">Close form 1</title><circle cx=\"10\" cy=\"10\" r=\"9.5\" fill=\"rgba(180,187,195,0)\" stroke=\"rgba(255,255,255,0)\" style=\"cursor: pointer;\"></circle><path d=\"M6 6L14 14M6 14L14 6L6 14Z\" stroke=\"rgba(55,63,71,0.7)\" stroke-width=\"1\" stroke-linecap=\"round\" stroke-linejoin=\"round\" style=\"cursor: pointer;\"></path></svg></button>'\n",
        "modal = '<form class=\"needsclick klaviyo-form klaviyo-form-version-cid_1 kl-private-reset-css-Xuajs1\" data-testid=\"klaviyo-form-TDSeqr\" novalidate=\"\" tabindex=\"-1\" style=\"display: flex; flex-direction: row; box-sizing: border-box; width: 400px; min-width: 200px; max-width: 1000px; border-radius: 0px; border-style: solid; border-width: 1px; border-color: rgb(0, 0, 0); background-color: rgb(255, 255, 255); background-repeat: no-repeat; background-position-y: 50%; padding: 20px; flex: 1 1 0%;\"><div class=\"needsclick  kl-private-reset-css-Xuajs1\" style=\"display: flex; flex-direction: column; width: 100%; margin: 0px; padding: 0px; min-height: 174px; justify-content: center;\"><div data-testid=\"form-row\" class=\"needsclick  kl-private-reset-css-Xuajs1\" style=\"display: flex; flex-direction: row; align-items: stretch; position: relative;\"><div component=\"[object Object]\" data-testid=\"form-component\" class=\"needsclick  kl-private-reset-css-Xuajs1\" style=\"display: flex; justify-content: flex-start; padding: 5px 6px 24px; position: relative; flex: 1 0 0px;\"><div class=\"kl-private-reset-css-Xuajs1 go3176171171\" style=\"width: 100%;\"><div style=\"text-align: center;\"><span style=\"font-family: Helvetica, Arial, sans-serif; font-weight: 400; font-size: 13px;\">EVERY SHOPPING BAG, EVERY COLOR, AND EVERYTHING ELSE. SUBSCRIBE FOR UPDATES.</span></div></div></div></div><div data-testid=\"form-row\" class=\"needsclick  kl-private-reset-css-Xuajs1\" style=\"display: flex; flex-direction: row; align-items: stretch; position: relative;\"><div component=\"[object Object]\" data-testid=\"form-component\" class=\"needsclick  kl-private-reset-css-Xuajs1\" style=\"display: flex; justify-content: flex-start; padding: 0px 4px; position: relative; flex: 1 0 0px;\"><div class=\"needsclick  kl-private-reset-css-Xuajs1\" style=\"display: flex; flex-grow: 1; flex-direction: column; align-self: flex-end;\"><input id=\"email_48093458\" class=\"needsclick go854821512 kl-private-reset-css-Xuajs1\" type=\"email\" autocomplete=\"email\" name=\"email\" tabindex=\"0\" placeholder=\"Email\" aria-label=\"Email\" aria-invalid=\"false\" options=\"[object Object]\" style=\"box-sizing: border-box; border-radius: 0px; padding: 0px 0px 0px 16px; height: 54px; text-align: left; color: rgb(0, 0, 0); font-family: Helvetica, Arial, sans-serif; font-size: 14px; font-weight: 400; letter-spacing: 0px; background-color: rgb(255, 255, 255); border: 1px solid rgb(180, 187, 195);\"><div class=\"needsclick  kl-private-reset-css-Xuajs1\" style=\"width: 100%; position: relative;\"></div></div></div></div><div data-testid=\"form-row\" class=\"needsclick  kl-private-reset-css-Xuajs1\" style=\"display: flex; flex-direction: row; align-items: stretch; position: relative;\"><div component=\"[object Object]\" data-testid=\"form-component\" class=\"needsclick  kl-private-reset-css-Xuajs1\" style=\"display: flex; justify-content: flex-start; padding: 12px 4px 0px; position: relative; flex: 1 0 0px;\"><button class=\"needsclick go3894874857 kl-private-reset-css-Xuajs1\" type=\"button\" tabindex=\"0\" style=\"background: rgb(7, 7, 7); border-radius: 18px; border-style: none; border-color: rgb(23, 130, 76); border-width: 2px; color: rgb(255, 255, 255); font-family: Helvetica, Arial, sans-serif; font-size: 14px; font-weight: 700; letter-spacing: 0px; line-height: 1; white-space: normal; padding-top: 0px; padding-bottom: 0px; text-align: center; word-break: break-word; align-self: flex-end; cursor: pointer; height: 40px; width: 100%;\">SUBSCRIBE</button></div></div></div><input type=\"submit\" tabindex=\"-1\" value=\"Submit\" style=\"display: none;\"></form>'"
      ],
      "metadata": {
        "colab": {
          "base_uri": "https://localhost:8080/"
        },
        "id": "LpNiXl1AQpoJ",
        "outputId": "4abc4807-ca4e-4119-8896-a0f0bea885d6"
      },
      "execution_count": 60,
      "outputs": [
        {
          "output_type": "stream",
          "name": "stdout",
          "text": [
            "[<input class=\"searchInput search-bar__input\" id=\"searchInput\" name=\"q\" placeholder=\"Search\" type=\"text\" value=\"\"/>]\n"
          ]
        }
      ]
    },
    {
      "cell_type": "code",
      "source": [
        "#@title Main Function\n",
        "\n",
        "\n",
        "from playwright.async_api import async_playwright, Playwright\n",
        "from playwright.sync_api import Playwright, sync_playwright\n",
        "\n",
        "search_output = []\n",
        "\n",
        "async def main(playwright: Playwright,query: str) -> None:\n",
        "\n",
        "    browser = await playwright.chromium.launch()\n",
        "    page = await browser.new_page()\n",
        "    await page.goto('https://telfar.net')\n",
        "\n",
        "    await page.type('#searchInput', query)\n",
        "    await page.keyboard.press('Enter')\n",
        "    await page.wait_for_selector('.product__title')\n",
        "    #print page with bs4\n",
        "    html = await page.content()\n",
        "    soup = BeautifulSoup(html, 'html.parser')\n",
        "    \n",
        "    #html table/grid\n",
        "    product_items = soup.find_all('div', class_='product grid__item one-whole slide-up-animation animated')\n",
        "    \n",
        "    for item in product_items:\n",
        "      #nested div\n",
        "      product_title = item.find('div', class_='product__title').a.text.strip()\n",
        "      #string manipulation \n",
        "      product_price = item.find('span', class_='product__price').text.strip()\n",
        "      index = product_price.find('$')  # Find the position of the first dollar sign\n",
        "      product_price_formatted = product_price[index:]\n",
        "     \n",
        "      product_url =\" https://telfar.net\" + item.find('a', class_='product__image-wrapper').get('href').strip()\n",
        "      search_output.append({\n",
        "          'title': product_title,\n",
        "          'price': product_price_formatted,\n",
        "          'url': product_url\n",
        "      })\n",
        "    make_table(\"search output\",search_output)\n",
        "    #print modal and x_button\n",
        "    \n",
        "    test_modal = soup.find('div', {'role': 'dialog', 'aria-label': 'FLYOUT Form', 'aria-modal': 'true', 'class': 'needsclick  kl-private-reset-css-Xuajs1'})\n",
        "    test_x_button = soup.find('button', {'id': 'my-button'})\n",
        "    \n",
        "    # if(test_modal):\n",
        "    #   modal = test_modal\n",
        "    #   x_button = test_x_button\n",
        "\n",
        "    print(modal)\n",
        "    print(x_button)\n",
        "    await browser.close()\n",
        "   \n",
        "\n",
        "\n",
        "#google colab issue \n",
        "async with async_playwright() as playwright:\n",
        "    query = \"red\"\n",
        "    await main(playwright,query)"
      ],
      "metadata": {
        "id": "9eEp-P9PT1KE",
        "colab": {
          "base_uri": "https://localhost:8080/"
        },
        "outputId": "5016ba44-eda8-481e-d416-79fce95a2864"
      },
      "execution_count": 63,
      "outputs": [
        {
          "output_type": "stream",
          "name": "stdout",
          "text": [
            "[search output] title                            price     url\n",
            "-------------------------------  --------  --------------------------------------------------------\n",
            "Telfar Bucket Hat - Red          $ 148.00  https://telfar.net/products/telfar-bucket-hat-red\n",
            "Camo Hoodie - Red                $ 280.00  https://telfar.net/products/camo-hoodie-red\n",
            "Logo Embossed Hat - Red          $ 110.00  https://telfar.net/products/logo-embossed-hat-red\n",
            "Logo Belt - Silver/Red           $ 95.00   https://telfar.net/products/logo-belt-silver-red\n",
            "Embroidered Beanie - Red         $ 55.00   https://telfar.net/products/embroidered-beanie-red\n",
            "Camo T-shirt - Red               $ 188.00  https://telfar.net/products/camo-t-shirt-red\n",
            "Camo Sweatshort - Red            $ 190.00  https://telfar.net/products/camo-sweatshort-red\n",
            "Bandana Print Durag - Red/White  $ 90.00   https://telfar.net/products/bandana-print-durag-red\n",
            "Halter Tank - Red                $ 81.00   https://telfar.net/products/halter-tank-red\n",
            "Camo Sweatpant - Red             $ 210.00  https://telfar.net/products/camo-sweatpant-red\n",
            "Half Tank - Red                  $ 79.00   https://telfar.net/products/half-tank-red\n",
            "Puff Hoodie - Red                $ 400.00  https://telfar.net/products/puff-hoodie-red\n",
            "Puff Sweatpant - Red             $ 400.00  https://telfar.net/products/puff-sweatpant-red\n",
            "Tall Short - Liberia Red         $ 260.00  https://telfar.net/products/tall-short-liberia-red\n",
            "Tall T - Liberia Red             $ 90.00   https://telfar.net/products/tall-t-liberia-red\n",
            "Tall Jersey - Liberia Red        $ 250.00  https://telfar.net/products/tall-jersey-liberia-red\n",
            "Half Tank Tunic - Red            $ 96.00   https://telfar.net/products/half-tank-tunic-red\n",
            "Flared Pants - Liberia Red       $ 220.00  https://telfar.net/products/flared-pants-liberia-red\n",
            "Triple Jersey - Liberia Red      $ 180.00  https://telfar.net/products/triple-jersey-liberia-red\n",
            "Cropped Half Tank - Red          $ 69.00   https://telfar.net/products/cropped-half-tank-red\n",
            "Puff Hoodie Coat - Red           $ 525.00  https://telfar.net/products/puff-hoodie-coat-red\n",
            "Split Track Pant - Liberia Red   $ 190.00  https://telfar.net/products/split-track-pant-liberia-red\n",
            "Athletic Logo Socks - Oxblood    $ 23.00   https://telfar.net/products/athletic-logo-socks-oxblood\n",
            "<form class=\"needsclick klaviyo-form klaviyo-form-version-cid_1 kl-private-reset-css-Xuajs1\" data-testid=\"klaviyo-form-TDSeqr\" novalidate=\"\" tabindex=\"-1\" style=\"display: flex; flex-direction: row; box-sizing: border-box; width: 400px; min-width: 200px; max-width: 1000px; border-radius: 0px; border-style: solid; border-width: 1px; border-color: rgb(0, 0, 0); background-color: rgb(255, 255, 255); background-repeat: no-repeat; background-position-y: 50%; padding: 20px; flex: 1 1 0%;\"><div class=\"needsclick  kl-private-reset-css-Xuajs1\" style=\"display: flex; flex-direction: column; width: 100%; margin: 0px; padding: 0px; min-height: 174px; justify-content: center;\"><div data-testid=\"form-row\" class=\"needsclick  kl-private-reset-css-Xuajs1\" style=\"display: flex; flex-direction: row; align-items: stretch; position: relative;\"><div component=\"[object Object]\" data-testid=\"form-component\" class=\"needsclick  kl-private-reset-css-Xuajs1\" style=\"display: flex; justify-content: flex-start; padding: 5px 6px 24px; position: relative; flex: 1 0 0px;\"><div class=\"kl-private-reset-css-Xuajs1 go3176171171\" style=\"width: 100%;\"><div style=\"text-align: center;\"><span style=\"font-family: Helvetica, Arial, sans-serif; font-weight: 400; font-size: 13px;\">EVERY SHOPPING BAG, EVERY COLOR, AND EVERYTHING ELSE. SUBSCRIBE FOR UPDATES.</span></div></div></div></div><div data-testid=\"form-row\" class=\"needsclick  kl-private-reset-css-Xuajs1\" style=\"display: flex; flex-direction: row; align-items: stretch; position: relative;\"><div component=\"[object Object]\" data-testid=\"form-component\" class=\"needsclick  kl-private-reset-css-Xuajs1\" style=\"display: flex; justify-content: flex-start; padding: 0px 4px; position: relative; flex: 1 0 0px;\"><div class=\"needsclick  kl-private-reset-css-Xuajs1\" style=\"display: flex; flex-grow: 1; flex-direction: column; align-self: flex-end;\"><input id=\"email_48093458\" class=\"needsclick go854821512 kl-private-reset-css-Xuajs1\" type=\"email\" autocomplete=\"email\" name=\"email\" tabindex=\"0\" placeholder=\"Email\" aria-label=\"Email\" aria-invalid=\"false\" options=\"[object Object]\" style=\"box-sizing: border-box; border-radius: 0px; padding: 0px 0px 0px 16px; height: 54px; text-align: left; color: rgb(0, 0, 0); font-family: Helvetica, Arial, sans-serif; font-size: 14px; font-weight: 400; letter-spacing: 0px; background-color: rgb(255, 255, 255); border: 1px solid rgb(180, 187, 195);\"><div class=\"needsclick  kl-private-reset-css-Xuajs1\" style=\"width: 100%; position: relative;\"></div></div></div></div><div data-testid=\"form-row\" class=\"needsclick  kl-private-reset-css-Xuajs1\" style=\"display: flex; flex-direction: row; align-items: stretch; position: relative;\"><div component=\"[object Object]\" data-testid=\"form-component\" class=\"needsclick  kl-private-reset-css-Xuajs1\" style=\"display: flex; justify-content: flex-start; padding: 12px 4px 0px; position: relative; flex: 1 0 0px;\"><button class=\"needsclick go3894874857 kl-private-reset-css-Xuajs1\" type=\"button\" tabindex=\"0\" style=\"background: rgb(7, 7, 7); border-radius: 18px; border-style: none; border-color: rgb(23, 130, 76); border-width: 2px; color: rgb(255, 255, 255); font-family: Helvetica, Arial, sans-serif; font-size: 14px; font-weight: 700; letter-spacing: 0px; line-height: 1; white-space: normal; padding-top: 0px; padding-bottom: 0px; text-align: center; word-break: break-word; align-self: flex-end; cursor: pointer; height: 40px; width: 100%;\">SUBSCRIBE</button></div></div></div><input type=\"submit\" tabindex=\"-1\" value=\"Submit\" style=\"display: none;\"></form>\n",
            "<button tabindex=\"0\" class=\"needsclick klaviyo-close-form kl-private-reset-css-Xuajs1\" style=\"right: 0px; top: 0px; position: absolute; z-index: 6; cursor: pointer; height: 25px; width: 25px; margin-right: 8px; margin-top: 8px;\"><svg role=\"img\" width=\"25\" height=\"25\" viewBox=\"0 0 20 20\" fill=\"none\" xmlns=\"http://www.w3.org/2000/svg\" aria-labelledby=\"close-form-1\" class=\"needsclick  kl-private-reset-css-Xuajs1\"><title id=\"close-form-1\">Close form 1</title><circle cx=\"10\" cy=\"10\" r=\"9.5\" fill=\"rgba(180,187,195,0)\" stroke=\"rgba(255,255,255,0)\" style=\"cursor: pointer;\"></circle><path d=\"M6 6L14 14M6 14L14 6L6 14Z\" stroke=\"rgba(55,63,71,0.7)\" stroke-width=\"1\" stroke-linecap=\"round\" stroke-linejoin=\"round\" style=\"cursor: pointer;\"></path></svg></button>\n"
          ]
        }
      ]
    },
    {
      "cell_type": "markdown",
      "source": [
        "# Depricated Code"
      ],
      "metadata": {
        "id": "8-65_PWQUc8Y"
      }
    },
    {
      "cell_type": "code",
      "execution_count": null,
      "metadata": {
        "id": "1gjRrCOLRhge",
        "cellView": "form"
      },
      "outputs": [],
      "source": [
        "#@title BS4 Method\n",
        "\n",
        "#Depricated\n",
        "\n"
      ]
    },
    {
      "cell_type": "code",
      "source": [
        "#@title Playwright Method\n",
        "\n",
        "#depricated\n"
      ],
      "metadata": {
        "id": "axoOrugX3vXE",
        "cellView": "form"
      },
      "execution_count": null,
      "outputs": []
    },
    {
      "cell_type": "markdown",
      "source": [
        "# OutPut"
      ],
      "metadata": {
        "id": "WZs8WqpEsdH-"
      }
    },
    {
      "cell_type": "code",
      "source": [
        "#@title Output\n",
        "make_table(\"search output\",search_output)\n",
        "print(modal)\n",
        "print(x_button)"
      ],
      "metadata": {
        "colab": {
          "base_uri": "https://localhost:8080/"
        },
        "cellView": "form",
        "id": "W2ilJwHksDCn",
        "outputId": "659adeea-6522-49e3-8deb-839e8ccc4ea5"
      },
      "execution_count": 66,
      "outputs": [
        {
          "output_type": "stream",
          "name": "stdout",
          "text": [
            "[search output] title                            price     url\n",
            "-------------------------------  --------  --------------------------------------------------------\n",
            "Telfar Bucket Hat - Red          $ 148.00  https://telfar.net/products/telfar-bucket-hat-red\n",
            "Camo Hoodie - Red                $ 280.00  https://telfar.net/products/camo-hoodie-red\n",
            "Logo Embossed Hat - Red          $ 110.00  https://telfar.net/products/logo-embossed-hat-red\n",
            "Logo Belt - Silver/Red           $ 95.00   https://telfar.net/products/logo-belt-silver-red\n",
            "Embroidered Beanie - Red         $ 55.00   https://telfar.net/products/embroidered-beanie-red\n",
            "Camo T-shirt - Red               $ 188.00  https://telfar.net/products/camo-t-shirt-red\n",
            "Camo Sweatshort - Red            $ 190.00  https://telfar.net/products/camo-sweatshort-red\n",
            "Bandana Print Durag - Red/White  $ 90.00   https://telfar.net/products/bandana-print-durag-red\n",
            "Halter Tank - Red                $ 81.00   https://telfar.net/products/halter-tank-red\n",
            "Camo Sweatpant - Red             $ 210.00  https://telfar.net/products/camo-sweatpant-red\n",
            "Half Tank - Red                  $ 79.00   https://telfar.net/products/half-tank-red\n",
            "Puff Hoodie - Red                $ 400.00  https://telfar.net/products/puff-hoodie-red\n",
            "Puff Sweatpant - Red             $ 400.00  https://telfar.net/products/puff-sweatpant-red\n",
            "Tall Short - Liberia Red         $ 260.00  https://telfar.net/products/tall-short-liberia-red\n",
            "Tall T - Liberia Red             $ 90.00   https://telfar.net/products/tall-t-liberia-red\n",
            "Tall Jersey - Liberia Red        $ 250.00  https://telfar.net/products/tall-jersey-liberia-red\n",
            "Half Tank Tunic - Red            $ 96.00   https://telfar.net/products/half-tank-tunic-red\n",
            "Flared Pants - Liberia Red       $ 220.00  https://telfar.net/products/flared-pants-liberia-red\n",
            "Triple Jersey - Liberia Red      $ 180.00  https://telfar.net/products/triple-jersey-liberia-red\n",
            "Cropped Half Tank - Red          $ 69.00   https://telfar.net/products/cropped-half-tank-red\n",
            "Puff Hoodie Coat - Red           $ 525.00  https://telfar.net/products/puff-hoodie-coat-red\n",
            "Split Track Pant - Liberia Red   $ 190.00  https://telfar.net/products/split-track-pant-liberia-red\n",
            "Athletic Logo Socks - Oxblood    $ 23.00   https://telfar.net/products/athletic-logo-socks-oxblood\n",
            "<form class=\"needsclick klaviyo-form klaviyo-form-version-cid_1 kl-private-reset-css-Xuajs1\" data-testid=\"klaviyo-form-TDSeqr\" novalidate=\"\" tabindex=\"-1\" style=\"display: flex; flex-direction: row; box-sizing: border-box; width: 400px; min-width: 200px; max-width: 1000px; border-radius: 0px; border-style: solid; border-width: 1px; border-color: rgb(0, 0, 0); background-color: rgb(255, 255, 255); background-repeat: no-repeat; background-position-y: 50%; padding: 20px; flex: 1 1 0%;\"><div class=\"needsclick  kl-private-reset-css-Xuajs1\" style=\"display: flex; flex-direction: column; width: 100%; margin: 0px; padding: 0px; min-height: 174px; justify-content: center;\"><div data-testid=\"form-row\" class=\"needsclick  kl-private-reset-css-Xuajs1\" style=\"display: flex; flex-direction: row; align-items: stretch; position: relative;\"><div component=\"[object Object]\" data-testid=\"form-component\" class=\"needsclick  kl-private-reset-css-Xuajs1\" style=\"display: flex; justify-content: flex-start; padding: 5px 6px 24px; position: relative; flex: 1 0 0px;\"><div class=\"kl-private-reset-css-Xuajs1 go3176171171\" style=\"width: 100%;\"><div style=\"text-align: center;\"><span style=\"font-family: Helvetica, Arial, sans-serif; font-weight: 400; font-size: 13px;\">EVERY SHOPPING BAG, EVERY COLOR, AND EVERYTHING ELSE. SUBSCRIBE FOR UPDATES.</span></div></div></div></div><div data-testid=\"form-row\" class=\"needsclick  kl-private-reset-css-Xuajs1\" style=\"display: flex; flex-direction: row; align-items: stretch; position: relative;\"><div component=\"[object Object]\" data-testid=\"form-component\" class=\"needsclick  kl-private-reset-css-Xuajs1\" style=\"display: flex; justify-content: flex-start; padding: 0px 4px; position: relative; flex: 1 0 0px;\"><div class=\"needsclick  kl-private-reset-css-Xuajs1\" style=\"display: flex; flex-grow: 1; flex-direction: column; align-self: flex-end;\"><input id=\"email_48093458\" class=\"needsclick go854821512 kl-private-reset-css-Xuajs1\" type=\"email\" autocomplete=\"email\" name=\"email\" tabindex=\"0\" placeholder=\"Email\" aria-label=\"Email\" aria-invalid=\"false\" options=\"[object Object]\" style=\"box-sizing: border-box; border-radius: 0px; padding: 0px 0px 0px 16px; height: 54px; text-align: left; color: rgb(0, 0, 0); font-family: Helvetica, Arial, sans-serif; font-size: 14px; font-weight: 400; letter-spacing: 0px; background-color: rgb(255, 255, 255); border: 1px solid rgb(180, 187, 195);\"><div class=\"needsclick  kl-private-reset-css-Xuajs1\" style=\"width: 100%; position: relative;\"></div></div></div></div><div data-testid=\"form-row\" class=\"needsclick  kl-private-reset-css-Xuajs1\" style=\"display: flex; flex-direction: row; align-items: stretch; position: relative;\"><div component=\"[object Object]\" data-testid=\"form-component\" class=\"needsclick  kl-private-reset-css-Xuajs1\" style=\"display: flex; justify-content: flex-start; padding: 12px 4px 0px; position: relative; flex: 1 0 0px;\"><button class=\"needsclick go3894874857 kl-private-reset-css-Xuajs1\" type=\"button\" tabindex=\"0\" style=\"background: rgb(7, 7, 7); border-radius: 18px; border-style: none; border-color: rgb(23, 130, 76); border-width: 2px; color: rgb(255, 255, 255); font-family: Helvetica, Arial, sans-serif; font-size: 14px; font-weight: 700; letter-spacing: 0px; line-height: 1; white-space: normal; padding-top: 0px; padding-bottom: 0px; text-align: center; word-break: break-word; align-self: flex-end; cursor: pointer; height: 40px; width: 100%;\">SUBSCRIBE</button></div></div></div><input type=\"submit\" tabindex=\"-1\" value=\"Submit\" style=\"display: none;\"></form>\n",
            "<button tabindex=\"0\" class=\"needsclick klaviyo-close-form kl-private-reset-css-Xuajs1\" style=\"right: 0px; top: 0px; position: absolute; z-index: 6; cursor: pointer; height: 25px; width: 25px; margin-right: 8px; margin-top: 8px;\"><svg role=\"img\" width=\"25\" height=\"25\" viewBox=\"0 0 20 20\" fill=\"none\" xmlns=\"http://www.w3.org/2000/svg\" aria-labelledby=\"close-form-1\" class=\"needsclick  kl-private-reset-css-Xuajs1\"><title id=\"close-form-1\">Close form 1</title><circle cx=\"10\" cy=\"10\" r=\"9.5\" fill=\"rgba(180,187,195,0)\" stroke=\"rgba(255,255,255,0)\" style=\"cursor: pointer;\"></circle><path d=\"M6 6L14 14M6 14L14 6L6 14Z\" stroke=\"rgba(55,63,71,0.7)\" stroke-width=\"1\" stroke-linecap=\"round\" stroke-linejoin=\"round\" style=\"cursor: pointer;\"></path></svg></button>\n"
          ]
        }
      ]
    },
    {
      "cell_type": "markdown",
      "source": [
        "# Conclusion"
      ],
      "metadata": {
        "id": "BfYDwI21zYWU"
      }
    },
    {
      "cell_type": "markdown",
      "source": [
        "#Hypothesis 1\n",
        "1. Observation: Our Team needs to test our new website with automation software.\n",
        "\n",
        "2. Question: How can i gather as much high quality data as quickly as possible with as little input from the user as possible\n",
        "\n",
        "3. Hypothesis: I hypothesize that getting the data via their API would be most efficient, but sence this a testing project playwright and bs4 will be the next best solution \n",
        "\n",
        "4. Prediction: this will be the fastest method to complete this task as playwright is superiour \n",
        "\n",
        "There are several reasons why Playwright is considered better than Selenium:\n",
        "\n",
        "Faster and more efficient: Playwright is built on top of the latest web automation technologies and is designed to be faster and more efficient than Selenium.\n",
        "\n",
        "Cross-browser support: Playwright supports multiple browsers, including Chromium, Firefox, and Safari, out of the box, while Selenium requires additional drivers and configurations for each browser.\n",
        "\n",
        "Better debugging and error reporting: Playwright provides detailed error messages and stack traces, making it easier to diagnose and fix issues. It also has built-in debugging capabilities that allow developers to step through code and inspect page elements.\n",
        "\n",
        "Robustness: Playwright is built to handle modern web applications that make heavy use of JavaScript, CSS, and other web technologies. It is more reliable than Selenium when dealing with complex web applications.\n",
        "\n",
        "Headless mode: Playwright has a built-in headless mode, which means it can run in the background without displaying a browser window, making it ideal for running automated tests in a continuous integration (CI) environment.\n",
        "\n",
        "\n",
        "\n",
        "5. Experimentation: Create Automations using BS4 and Playwright\n",
        "\n",
        "6. Analysis: This method took less than one minuete to execute this a big(o) score of o(n) making it the ideal case for this task\n",
        "\n",
        "7. Conclusion: Based on my hypothesis using playwright and bs4 for automation testing is ideal.\n",
        "\n"
      ],
      "metadata": {
        "id": "NhDBYMVAVaBr"
      }
    }
  ]
}